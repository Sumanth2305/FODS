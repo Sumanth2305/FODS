{
  "nbformat": 4,
  "nbformat_minor": 0,
  "metadata": {
    "colab": {
      "provenance": []
    },
    "kernelspec": {
      "name": "python3",
      "display_name": "Python 3"
    },
    "language_info": {
      "name": "python"
    }
  },
  "cells": [
    {
      "cell_type": "code",
      "execution_count": 11,
      "metadata": {
        "id": "N_ipbwo_FLft"
      },
      "outputs": [],
      "source": [
        "import numpy as np\n",
        "import pandas as pd\n",
        "import matplotlib.pyplot as plt\n",
        "import seaborn as sns\n",
        "%matplotlib inline\n",
        "sns.set()\n",
        "import numpy as np\n",
        "import scipy.stats as st\n",
        "import numpy.random as npr"
      ]
    },
    {
      "cell_type": "markdown",
      "source": [
        "PART-B"
      ],
      "metadata": {
        "id": "ch2uL8VTJDUQ"
      }
    },
    {
      "cell_type": "code",
      "source": [
        "#by p value\n",
        "#Null Hypothesis: H1=60\n",
        "#Alternative Hypothesis: Ha!=60\n",
        "\n",
        "n = 30\n",
        "xbar = 65.10\n",
        "mu = 60\n",
        "sigma = 13.46\n",
        "alpha = 0.05\n",
        "\n",
        "z = (xbar-mu)/(sigma/np.sqrt(n))\n",
        "z\n",
        "\n",
        "p_val = (1 - st.norm.cdf(abs(z))) * 2\n",
        "p_val\n",
        "\n",
        "if (p_val > alpha):\n",
        "    print(\"Null hypothesis cannot be rejected\")\n",
        "else:\n",
        "    print(\"Reject null hypothesis\")"
      ],
      "metadata": {
        "colab": {
          "base_uri": "https://localhost:8080/"
        },
        "id": "zL9XSFLsIUgO",
        "outputId": "107d37ca-0e85-4f96-de0b-8f96b51b6ed8"
      },
      "execution_count": 9,
      "outputs": [
        {
          "output_type": "stream",
          "name": "stdout",
          "text": [
            "Reject null hypothesis\n"
          ]
        }
      ]
    },
    {
      "cell_type": "markdown",
      "source": [
        "PART-A\n"
      ],
      "metadata": {
        "id": "MjOIkwInKJve"
      }
    },
    {
      "cell_type": "markdown",
      "source": [
        "1.\n",
        "Null Hypothesis:mu=75%\n",
        "Alternative Hypothesis: mu!=75%"
      ],
      "metadata": {
        "id": "PHNAWd9vMQRV"
      }
    },
    {
      "cell_type": "markdown",
      "source": [
        "2. As the null hypothesis is = and doesnt contain aany symbols such as < or >, the given problem gives two tailed graph and z- test can be used as the n >=30, Test statistic is used as we need the differ the purple flowers with observed value"
      ],
      "metadata": {
        "id": "lxFsQmM4MkvQ"
      }
    },
    {
      "cell_type": "code",
      "source": [
        "#3\n",
        "purple_count = 712\n",
        "white_count = 217\n",
        "total_flowers = 929\n",
        "observed = purple_count/total_flowers\n",
        "\n",
        "observed_statistic = abs(observed - 0.75)\n",
        "observed_statistic"
      ],
      "metadata": {
        "colab": {
          "base_uri": "https://localhost:8080/"
        },
        "id": "QUsJ_1d1TrrD",
        "outputId": "a58f7a9b-82dc-46db-f44f-903e46d160d4"
      },
      "execution_count": 14,
      "outputs": [
        {
          "output_type": "execute_result",
          "data": {
            "text/plain": [
              "0.016415500538213168"
            ]
          },
          "metadata": {},
          "execution_count": 14
        }
      ]
    },
    {
      "cell_type": "code",
      "source": [
        "#4\n",
        "stimulations = 1793\n",
        "for i in range(stimulations):\n",
        "    a = npr.binomial(total_flowers, 0.75, stimulations)\n",
        "a"
      ],
      "metadata": {
        "colab": {
          "base_uri": "https://localhost:8080/"
        },
        "id": "i2zAHz_FJ-AI",
        "outputId": "dac5ec9b-99ce-4007-9f47-9c08470f4a97"
      },
      "execution_count": 15,
      "outputs": [
        {
          "output_type": "execute_result",
          "data": {
            "text/plain": [
              "array([691, 701, 705, ..., 684, 701, 691])"
            ]
          },
          "metadata": {},
          "execution_count": 15
        }
      ]
    },
    {
      "cell_type": "code",
      "source": [
        "df = pd.DataFrame(a, columns =['Count'])\n",
        "df['sample']= (df['Count'] / total_flowers)\n",
        "df['0.75'] = abs(df['sample'] - 0.75)\n",
        "df"
      ],
      "metadata": {
        "colab": {
          "base_uri": "https://localhost:8080/",
          "height": 424
        },
        "id": "DzFVDo8UQ583",
        "outputId": "34d7a7b4-ba76-4687-f5f7-b148bc497e51"
      },
      "execution_count": 18,
      "outputs": [
        {
          "output_type": "execute_result",
          "data": {
            "text/plain": [
              "      Count    sample      0.75\n",
              "0       691  0.743811  0.006189\n",
              "1       701  0.754575  0.004575\n",
              "2       705  0.758881  0.008881\n",
              "3       701  0.754575  0.004575\n",
              "4       704  0.757804  0.007804\n",
              "...     ...       ...       ...\n",
              "1788    702  0.755651  0.005651\n",
              "1789    688  0.740581  0.009419\n",
              "1790    684  0.736276  0.013724\n",
              "1791    701  0.754575  0.004575\n",
              "1792    691  0.743811  0.006189\n",
              "\n",
              "[1793 rows x 3 columns]"
            ],
            "text/html": [
              "\n",
              "  <div id=\"df-bbf988ba-50eb-4ef9-b0fa-81ec4d74f28a\">\n",
              "    <div class=\"colab-df-container\">\n",
              "      <div>\n",
              "<style scoped>\n",
              "    .dataframe tbody tr th:only-of-type {\n",
              "        vertical-align: middle;\n",
              "    }\n",
              "\n",
              "    .dataframe tbody tr th {\n",
              "        vertical-align: top;\n",
              "    }\n",
              "\n",
              "    .dataframe thead th {\n",
              "        text-align: right;\n",
              "    }\n",
              "</style>\n",
              "<table border=\"1\" class=\"dataframe\">\n",
              "  <thead>\n",
              "    <tr style=\"text-align: right;\">\n",
              "      <th></th>\n",
              "      <th>Count</th>\n",
              "      <th>sample</th>\n",
              "      <th>0.75</th>\n",
              "    </tr>\n",
              "  </thead>\n",
              "  <tbody>\n",
              "    <tr>\n",
              "      <th>0</th>\n",
              "      <td>691</td>\n",
              "      <td>0.743811</td>\n",
              "      <td>0.006189</td>\n",
              "    </tr>\n",
              "    <tr>\n",
              "      <th>1</th>\n",
              "      <td>701</td>\n",
              "      <td>0.754575</td>\n",
              "      <td>0.004575</td>\n",
              "    </tr>\n",
              "    <tr>\n",
              "      <th>2</th>\n",
              "      <td>705</td>\n",
              "      <td>0.758881</td>\n",
              "      <td>0.008881</td>\n",
              "    </tr>\n",
              "    <tr>\n",
              "      <th>3</th>\n",
              "      <td>701</td>\n",
              "      <td>0.754575</td>\n",
              "      <td>0.004575</td>\n",
              "    </tr>\n",
              "    <tr>\n",
              "      <th>4</th>\n",
              "      <td>704</td>\n",
              "      <td>0.757804</td>\n",
              "      <td>0.007804</td>\n",
              "    </tr>\n",
              "    <tr>\n",
              "      <th>...</th>\n",
              "      <td>...</td>\n",
              "      <td>...</td>\n",
              "      <td>...</td>\n",
              "    </tr>\n",
              "    <tr>\n",
              "      <th>1788</th>\n",
              "      <td>702</td>\n",
              "      <td>0.755651</td>\n",
              "      <td>0.005651</td>\n",
              "    </tr>\n",
              "    <tr>\n",
              "      <th>1789</th>\n",
              "      <td>688</td>\n",
              "      <td>0.740581</td>\n",
              "      <td>0.009419</td>\n",
              "    </tr>\n",
              "    <tr>\n",
              "      <th>1790</th>\n",
              "      <td>684</td>\n",
              "      <td>0.736276</td>\n",
              "      <td>0.013724</td>\n",
              "    </tr>\n",
              "    <tr>\n",
              "      <th>1791</th>\n",
              "      <td>701</td>\n",
              "      <td>0.754575</td>\n",
              "      <td>0.004575</td>\n",
              "    </tr>\n",
              "    <tr>\n",
              "      <th>1792</th>\n",
              "      <td>691</td>\n",
              "      <td>0.743811</td>\n",
              "      <td>0.006189</td>\n",
              "    </tr>\n",
              "  </tbody>\n",
              "</table>\n",
              "<p>1793 rows × 3 columns</p>\n",
              "</div>\n",
              "      <button class=\"colab-df-convert\" onclick=\"convertToInteractive('df-bbf988ba-50eb-4ef9-b0fa-81ec4d74f28a')\"\n",
              "              title=\"Convert this dataframe to an interactive table.\"\n",
              "              style=\"display:none;\">\n",
              "        \n",
              "  <svg xmlns=\"http://www.w3.org/2000/svg\" height=\"24px\"viewBox=\"0 0 24 24\"\n",
              "       width=\"24px\">\n",
              "    <path d=\"M0 0h24v24H0V0z\" fill=\"none\"/>\n",
              "    <path d=\"M18.56 5.44l.94 2.06.94-2.06 2.06-.94-2.06-.94-.94-2.06-.94 2.06-2.06.94zm-11 1L8.5 8.5l.94-2.06 2.06-.94-2.06-.94L8.5 2.5l-.94 2.06-2.06.94zm10 10l.94 2.06.94-2.06 2.06-.94-2.06-.94-.94-2.06-.94 2.06-2.06.94z\"/><path d=\"M17.41 7.96l-1.37-1.37c-.4-.4-.92-.59-1.43-.59-.52 0-1.04.2-1.43.59L10.3 9.45l-7.72 7.72c-.78.78-.78 2.05 0 2.83L4 21.41c.39.39.9.59 1.41.59.51 0 1.02-.2 1.41-.59l7.78-7.78 2.81-2.81c.8-.78.8-2.07 0-2.86zM5.41 20L4 18.59l7.72-7.72 1.47 1.35L5.41 20z\"/>\n",
              "  </svg>\n",
              "      </button>\n",
              "      \n",
              "  <style>\n",
              "    .colab-df-container {\n",
              "      display:flex;\n",
              "      flex-wrap:wrap;\n",
              "      gap: 12px;\n",
              "    }\n",
              "\n",
              "    .colab-df-convert {\n",
              "      background-color: #E8F0FE;\n",
              "      border: none;\n",
              "      border-radius: 50%;\n",
              "      cursor: pointer;\n",
              "      display: none;\n",
              "      fill: #1967D2;\n",
              "      height: 32px;\n",
              "      padding: 0 0 0 0;\n",
              "      width: 32px;\n",
              "    }\n",
              "\n",
              "    .colab-df-convert:hover {\n",
              "      background-color: #E2EBFA;\n",
              "      box-shadow: 0px 1px 2px rgba(60, 64, 67, 0.3), 0px 1px 3px 1px rgba(60, 64, 67, 0.15);\n",
              "      fill: #174EA6;\n",
              "    }\n",
              "\n",
              "    [theme=dark] .colab-df-convert {\n",
              "      background-color: #3B4455;\n",
              "      fill: #D2E3FC;\n",
              "    }\n",
              "\n",
              "    [theme=dark] .colab-df-convert:hover {\n",
              "      background-color: #434B5C;\n",
              "      box-shadow: 0px 1px 3px 1px rgba(0, 0, 0, 0.15);\n",
              "      filter: drop-shadow(0px 1px 2px rgba(0, 0, 0, 0.3));\n",
              "      fill: #FFFFFF;\n",
              "    }\n",
              "  </style>\n",
              "\n",
              "      <script>\n",
              "        const buttonEl =\n",
              "          document.querySelector('#df-bbf988ba-50eb-4ef9-b0fa-81ec4d74f28a button.colab-df-convert');\n",
              "        buttonEl.style.display =\n",
              "          google.colab.kernel.accessAllowed ? 'block' : 'none';\n",
              "\n",
              "        async function convertToInteractive(key) {\n",
              "          const element = document.querySelector('#df-bbf988ba-50eb-4ef9-b0fa-81ec4d74f28a');\n",
              "          const dataTable =\n",
              "            await google.colab.kernel.invokeFunction('convertToInteractive',\n",
              "                                                     [key], {});\n",
              "          if (!dataTable) return;\n",
              "\n",
              "          const docLinkHtml = 'Like what you see? Visit the ' +\n",
              "            '<a target=\"_blank\" href=https://colab.research.google.com/notebooks/data_table.ipynb>data table notebook</a>'\n",
              "            + ' to learn more about interactive tables.';\n",
              "          element.innerHTML = '';\n",
              "          dataTable['output_type'] = 'display_data';\n",
              "          await google.colab.output.renderOutput(dataTable, element);\n",
              "          const docLink = document.createElement('div');\n",
              "          docLink.innerHTML = docLinkHtml;\n",
              "          element.appendChild(docLink);\n",
              "        }\n",
              "      </script>\n",
              "    </div>\n",
              "  </div>\n",
              "  "
            ]
          },
          "metadata": {},
          "execution_count": 18
        }
      ]
    },
    {
      "cell_type": "code",
      "source": [
        "#5\n",
        "plt.figure()\n",
        "plt.hist(df['0.75'])\n",
        "plt.axvline(x = observed_statistic)\n",
        "plt.xlabel('Distance from 0.75')\n",
        "plt.ylabel('Percent')\n",
        "plt.show()\n"
      ],
      "metadata": {
        "colab": {
          "base_uri": "https://localhost:8080/",
          "height": 285
        },
        "id": "QnVaF4YoQzdq",
        "outputId": "be92d9ba-b027-4105-8861-0404574b5b15"
      },
      "execution_count": 19,
      "outputs": [
        {
          "output_type": "display_data",
          "data": {
            "text/plain": [
              "<Figure size 432x288 with 1 Axes>"
            ],
            "image/png": "[encoded data removed]"
          },
          "metadata": {}
        }
      ]
    },
    {
      "cell_type": "markdown",
      "source": [
        "0.016415500538213168 which is just under 0.015 whichis close to distribution which means we accept null hypothesis"
      ],
      "metadata": {
        "id": "bOGHYdQcXhg0"
      }
    }
  ]
}